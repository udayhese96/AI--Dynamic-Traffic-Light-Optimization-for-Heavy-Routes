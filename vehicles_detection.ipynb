{
 "cells": [
  {
   "cell_type": "code",
   "execution_count": 1,
   "metadata": {},
   "outputs": [
    {
     "name": "stdout",
     "output_type": "stream",
     "text": [
      "Defaulting to user installation because normal site-packages is not writeableNote: you may need to restart the kernel to use updated packages.\n",
      "\n",
      "Requirement already satisfied: ultralytics in c:\\users\\chait\\appdata\\roaming\\python\\python311\\site-packages (8.2.103)\n",
      "Requirement already satisfied: numpy<2.0.0,>=1.23.0 in c:\\users\\chait\\appdata\\roaming\\python\\python311\\site-packages (from ultralytics) (1.26.4)\n",
      "Requirement already satisfied: matplotlib>=3.3.0 in c:\\users\\chait\\appdata\\roaming\\python\\python311\\site-packages (from ultralytics) (3.8.2)\n",
      "Requirement already satisfied: opencv-python>=4.6.0 in c:\\users\\chait\\appdata\\roaming\\python\\python311\\site-packages (from ultralytics) (4.10.0.84)\n",
      "Requirement already satisfied: pillow>=7.1.2 in c:\\users\\chait\\appdata\\roaming\\python\\python311\\site-packages (from ultralytics) (9.4.0)\n",
      "Requirement already satisfied: pyyaml>=5.3.1 in c:\\users\\chait\\appdata\\roaming\\python\\python311\\site-packages (from ultralytics) (6.0.1)\n",
      "Requirement already satisfied: requests>=2.23.0 in c:\\users\\chait\\appdata\\roaming\\python\\python311\\site-packages (from ultralytics) (2.31.0)\n",
      "Requirement already satisfied: scipy>=1.4.1 in c:\\users\\chait\\appdata\\roaming\\python\\python311\\site-packages (from ultralytics) (1.12.0)\n",
      "Requirement already satisfied: torch>=1.8.0 in c:\\users\\chait\\appdata\\roaming\\python\\python311\\site-packages (from ultralytics) (2.4.1+cu118)\n",
      "Requirement already satisfied: torchvision>=0.9.0 in c:\\users\\chait\\appdata\\roaming\\python\\python311\\site-packages (from ultralytics) (0.19.1+cu118)\n",
      "Requirement already satisfied: tqdm>=4.64.0 in c:\\users\\chait\\appdata\\roaming\\python\\python311\\site-packages (from ultralytics) (4.66.2)\n",
      "Requirement already satisfied: psutil in c:\\users\\chait\\appdata\\roaming\\python\\python311\\site-packages (from ultralytics) (5.9.8)\n",
      "Requirement already satisfied: py-cpuinfo in c:\\users\\chait\\appdata\\roaming\\python\\python311\\site-packages (from ultralytics) (9.0.0)\n",
      "Requirement already satisfied: pandas>=1.1.4 in c:\\users\\chait\\appdata\\roaming\\python\\python311\\site-packages (from ultralytics) (2.2.1)\n",
      "Requirement already satisfied: seaborn>=0.11.0 in c:\\users\\chait\\appdata\\roaming\\python\\python311\\site-packages (from ultralytics) (0.13.2)\n",
      "Requirement already satisfied: ultralytics-thop>=2.0.0 in c:\\users\\chait\\appdata\\roaming\\python\\python311\\site-packages (from ultralytics) (2.0.6)\n",
      "Requirement already satisfied: contourpy>=1.0.1 in c:\\users\\chait\\appdata\\roaming\\python\\python311\\site-packages (from matplotlib>=3.3.0->ultralytics) (1.2.0)\n",
      "Requirement already satisfied: cycler>=0.10 in c:\\users\\chait\\appdata\\roaming\\python\\python311\\site-packages (from matplotlib>=3.3.0->ultralytics) (0.12.1)\n",
      "Requirement already satisfied: fonttools>=4.22.0 in c:\\users\\chait\\appdata\\roaming\\python\\python311\\site-packages (from matplotlib>=3.3.0->ultralytics) (4.48.1)\n",
      "Requirement already satisfied: kiwisolver>=1.3.1 in c:\\users\\chait\\appdata\\roaming\\python\\python311\\site-packages (from matplotlib>=3.3.0->ultralytics) (1.4.5)\n",
      "Requirement already satisfied: packaging>=20.0 in c:\\users\\chait\\appdata\\roaming\\python\\python311\\site-packages (from matplotlib>=3.3.0->ultralytics) (23.2)\n",
      "Requirement already satisfied: pyparsing>=2.3.1 in c:\\users\\chait\\appdata\\roaming\\python\\python311\\site-packages (from matplotlib>=3.3.0->ultralytics) (3.1.1)\n",
      "Requirement already satisfied: python-dateutil>=2.7 in c:\\users\\chait\\appdata\\roaming\\python\\python311\\site-packages (from matplotlib>=3.3.0->ultralytics) (2.8.2)\n",
      "Requirement already satisfied: pytz>=2020.1 in c:\\users\\chait\\appdata\\roaming\\python\\python311\\site-packages (from pandas>=1.1.4->ultralytics) (2024.1)\n",
      "Requirement already satisfied: tzdata>=2022.7 in c:\\users\\chait\\appdata\\roaming\\python\\python311\\site-packages (from pandas>=1.1.4->ultralytics) (2024.1)\n",
      "Requirement already satisfied: charset-normalizer<4,>=2 in c:\\users\\chait\\appdata\\roaming\\python\\python311\\site-packages (from requests>=2.23.0->ultralytics) (3.3.2)\n",
      "Requirement already satisfied: idna<4,>=2.5 in c:\\users\\chait\\appdata\\roaming\\python\\python311\\site-packages (from requests>=2.23.0->ultralytics) (3.7)\n",
      "Requirement already satisfied: urllib3<3,>=1.21.1 in c:\\users\\chait\\appdata\\roaming\\python\\python311\\site-packages (from requests>=2.23.0->ultralytics) (2.2.0)\n",
      "Requirement already satisfied: certifi>=2017.4.17 in c:\\users\\chait\\appdata\\roaming\\python\\python311\\site-packages (from requests>=2.23.0->ultralytics) (2024.2.2)\n",
      "Requirement already satisfied: filelock in c:\\users\\chait\\appdata\\roaming\\python\\python311\\site-packages (from torch>=1.8.0->ultralytics) (3.13.4)\n",
      "Requirement already satisfied: typing-extensions>=4.8.0 in c:\\users\\chait\\appdata\\roaming\\python\\python311\\site-packages (from torch>=1.8.0->ultralytics) (4.9.0)\n",
      "Requirement already satisfied: sympy in c:\\users\\chait\\appdata\\roaming\\python\\python311\\site-packages (from torch>=1.8.0->ultralytics) (1.12)\n",
      "Requirement already satisfied: networkx in c:\\users\\chait\\appdata\\roaming\\python\\python311\\site-packages (from torch>=1.8.0->ultralytics) (3.3)\n",
      "Requirement already satisfied: jinja2 in c:\\users\\chait\\appdata\\roaming\\python\\python311\\site-packages (from torch>=1.8.0->ultralytics) (2.11.3)\n",
      "Requirement already satisfied: fsspec in c:\\users\\chait\\appdata\\roaming\\python\\python311\\site-packages (from torch>=1.8.0->ultralytics) (2024.3.1)\n",
      "Requirement already satisfied: colorama in c:\\users\\chait\\appdata\\roaming\\python\\python311\\site-packages (from tqdm>=4.64.0->ultralytics) (0.4.6)\n",
      "Requirement already satisfied: six>=1.5 in c:\\users\\chait\\appdata\\roaming\\python\\python311\\site-packages (from python-dateutil>=2.7->matplotlib>=3.3.0->ultralytics) (1.16.0)\n",
      "Requirement already satisfied: MarkupSafe>=0.23 in c:\\users\\chait\\appdata\\roaming\\python\\python311\\site-packages (from jinja2->torch>=1.8.0->ultralytics) (2.0.1)\n",
      "Requirement already satisfied: mpmath>=0.19 in c:\\users\\chait\\appdata\\roaming\\python\\python311\\site-packages (from sympy->torch>=1.8.0->ultralytics) (1.3.0)\n"
     ]
    },
    {
     "name": "stderr",
     "output_type": "stream",
     "text": [
      "DEPRECATION: Loading egg at c:\\program files\\python311\\lib\\site-packages\\vboxapi-1.0-py3.11.egg is deprecated. pip 25.1 will enforce this behaviour change. A possible replacement is to use pip for package installation. Discussion can be found at https://github.com/pypa/pip/issues/12330\n"
     ]
    }
   ],
   "source": [
    "pip install ultralytics"
   ]
  },
  {
   "cell_type": "code",
   "execution_count": 1,
   "metadata": {},
   "outputs": [],
   "source": [
    "from ultralytics import YOLO"
   ]
  },
  {
   "cell_type": "code",
   "execution_count": 2,
   "metadata": {},
   "outputs": [],
   "source": [
    "model = YOLO('yolov10l.pt')"
   ]
  },
  {
   "cell_type": "code",
   "execution_count": 3,
   "metadata": {},
   "outputs": [],
   "source": [
    "import cv2"
   ]
  },
  {
   "cell_type": "code",
   "execution_count": 8,
   "metadata": {},
   "outputs": [],
   "source": [
    "img = cv2.imread('C:/Users/chait/OneDrive/Desktop/SmartTrafficLight/test/cars.png')"
   ]
  },
  {
   "cell_type": "code",
   "execution_count": 9,
   "metadata": {},
   "outputs": [],
   "source": [
    "cv2.imshow('before detection', img)"
   ]
  },
  {
   "cell_type": "code",
   "execution_count": 11,
   "metadata": {},
   "outputs": [
    {
     "name": "stdout",
     "output_type": "stream",
     "text": [
      "\n",
      "0: 384x640 1 person, 18 cars, 7 buss, 1 truck, 103.0ms\n",
      "Speed: 147.0ms preprocess, 103.0ms inference, 105.3ms postprocess per image at shape (1, 3, 384, 640)\n"
     ]
    }
   ],
   "source": [
    "results = model(img)\n",
    "\n",
    "# Get the detected image with bounding boxes and labels\n",
    "detected_image = results[0].plot()"
   ]
  },
  {
   "cell_type": "code",
   "execution_count": 14,
   "metadata": {},
   "outputs": [
    {
     "data": {
      "text/plain": [
       "-1"
      ]
     },
     "execution_count": 14,
     "metadata": {},
     "output_type": "execute_result"
    }
   ],
   "source": [
    "cv2.imshow(\"After Detection\", detected_image)\n",
    "cv2.waitKey(0)  # Wait for a key press to close the window"
   ]
  },
  {
   "cell_type": "code",
   "execution_count": 16,
   "metadata": {},
   "outputs": [],
   "source": [
    "vehicle_count = 0\n"
   ]
  },
  {
   "cell_type": "code",
   "execution_count": 17,
   "metadata": {},
   "outputs": [],
   "source": [
    "vehicle_classes = [2, 3, 5, 7]"
   ]
  },
  {
   "cell_type": "code",
   "execution_count": 18,
   "metadata": {},
   "outputs": [],
   "source": [
    "for box in results[0].boxes:\n",
    "    cls_id = int(box.cls)  # Class ID\n",
    "    if cls_id in vehicle_classes:\n",
    "        vehicle_count += 1\n",
    "        # Draw bounding box\n",
    "        x1, y1, x2, y2 = map(int, box.xyxy[0])\n",
    "        cv2.rectangle(img, (x1, y1), (x2, y2), (0, 255, 0), 2)\n",
    "        # Add label\n",
    "        label = f\"Vehicle ({vehicle_count})\"\n",
    "        cv2.putText(img, label, (x1, y1 - 10), cv2.FONT_HERSHEY_SIMPLEX, 0.5, (0, 255, 0), 2)\n"
   ]
  },
  {
   "cell_type": "code",
   "execution_count": 20,
   "metadata": {},
   "outputs": [
    {
     "data": {
      "text/plain": [
       "array([[[  3,  38,   8],\n",
       "        [  6,  34,   5],\n",
       "        [ 10,  31,   8],\n",
       "        ...,\n",
       "        [ 15,  18,  16],\n",
       "        [ 20,  21,  18],\n",
       "        [ 30,  44,  36]],\n",
       "\n",
       "       [[  1,  42,   3],\n",
       "        [  9,  41,   6],\n",
       "        [ 13,  41,  10],\n",
       "        ...,\n",
       "        [ 49,  61,  44],\n",
       "        [ 50,  56,  45],\n",
       "        [ 43,  51,  39]],\n",
       "\n",
       "       [[  0,  41,   3],\n",
       "        [ 12,  39,   9],\n",
       "        [ 15,  46,  10],\n",
       "        ...,\n",
       "        [ 13,   7,   3],\n",
       "        [ 12,   9,   5],\n",
       "        [ 16,  14,  10]],\n",
       "\n",
       "       ...,\n",
       "\n",
       "       [[127, 155, 156],\n",
       "        [132, 160, 162],\n",
       "        [137, 166, 167],\n",
       "        ...,\n",
       "        [ 52,  49,  39],\n",
       "        [  0, 255,   0],\n",
       "        [  0, 255,   0]],\n",
       "\n",
       "       [[135, 163, 163],\n",
       "        [136, 164, 165],\n",
       "        [134, 165, 166],\n",
       "        ...,\n",
       "        [  0, 255,   0],\n",
       "        [  0, 255,   0],\n",
       "        [  0, 255,   0]],\n",
       "\n",
       "       [[137, 162, 164],\n",
       "        [139, 165, 168],\n",
       "        [139, 167, 168],\n",
       "        ...,\n",
       "        [  0, 255,   0],\n",
       "        [  0, 255,   0],\n",
       "        [  0, 255,   0]]], dtype=uint8)"
      ]
     },
     "execution_count": 20,
     "metadata": {},
     "output_type": "execute_result"
    }
   ],
   "source": [
    "# Display the count on the image\n",
    "cv2.putText(img, f\"Total Vehicles: {vehicle_count}\", (20, 50), cv2.FONT_HERSHEY_SIMPLEX, 1, (255, 0, 0), 2)\n"
   ]
  },
  {
   "cell_type": "code",
   "execution_count": 23,
   "metadata": {},
   "outputs": [
    {
     "name": "stdout",
     "output_type": "stream",
     "text": [
      "26\n"
     ]
    }
   ],
   "source": [
    "# Show the image\n",
    "cv2.imshow(\"Vehicle Detection and Count\", img)\n",
    "print(vehicle_count)\n",
    "cv2.waitKey(0)\n",
    "cv2.destroyAllWindows()"
   ]
  },
  {
   "cell_type": "code",
   "execution_count": 34,
   "metadata": {},
   "outputs": [],
   "source": [
    "# Define the region of interest (ROI)\n",
    "roi_top_left = (100, 300)  # Top-left corner of the ROI\n",
    "roi_bottom_right = (600, 600)  # Bottom-right corner of the ROI\n"
   ]
  },
  {
   "cell_type": "code",
   "execution_count": 36,
   "metadata": {},
   "outputs": [
    {
     "data": {
      "text/plain": [
       "array([[[  3,  38,   8],\n",
       "        [  6,  34,   5],\n",
       "        [ 10,  31,   8],\n",
       "        ...,\n",
       "        [ 15,  18,  16],\n",
       "        [ 20,  21,  18],\n",
       "        [ 30,  44,  36]],\n",
       "\n",
       "       [[  1,  42,   3],\n",
       "        [  9,  41,   6],\n",
       "        [ 13,  41,  10],\n",
       "        ...,\n",
       "        [ 49,  61,  44],\n",
       "        [ 50,  56,  45],\n",
       "        [ 43,  51,  39]],\n",
       "\n",
       "       [[  0,  41,   3],\n",
       "        [ 12,  39,   9],\n",
       "        [ 15,  46,  10],\n",
       "        ...,\n",
       "        [ 13,   7,   3],\n",
       "        [ 12,   9,   5],\n",
       "        [ 16,  14,  10]],\n",
       "\n",
       "       ...,\n",
       "\n",
       "       [[127, 155, 156],\n",
       "        [132, 160, 162],\n",
       "        [137, 166, 167],\n",
       "        ...,\n",
       "        [ 52,  49,  39],\n",
       "        [  0, 255,   0],\n",
       "        [  0, 255,   0]],\n",
       "\n",
       "       [[135, 163, 163],\n",
       "        [136, 164, 165],\n",
       "        [134, 165, 166],\n",
       "        ...,\n",
       "        [  0, 255,   0],\n",
       "        [  0, 255,   0],\n",
       "        [  0, 255,   0]],\n",
       "\n",
       "       [[137, 162, 164],\n",
       "        [139, 165, 168],\n",
       "        [139, 167, 168],\n",
       "        ...,\n",
       "        [  0, 255,   0],\n",
       "        [  0, 255,   0],\n",
       "        [  0, 255,   0]]], dtype=uint8)"
      ]
     },
     "execution_count": 36,
     "metadata": {},
     "output_type": "execute_result"
    }
   ],
   "source": [
    "# Draw the ROI box on the image\n",
    "cv2.rectangle(img, roi_top_left, roi_bottom_right, (0, 255, 255), 2)  # Yellow rectangle\n"
   ]
  },
  {
   "cell_type": "code",
   "execution_count": 42,
   "metadata": {},
   "outputs": [
    {
     "data": {
      "text/plain": [
       "-1"
      ]
     },
     "execution_count": 42,
     "metadata": {},
     "output_type": "execute_result"
    }
   ],
   "source": [
    "cv2.imshow('rectangle', img)\n",
    "cv2.waitKey(0)"
   ]
  },
  {
   "cell_type": "code",
   "execution_count": 38,
   "metadata": {},
   "outputs": [
    {
     "name": "stdout",
     "output_type": "stream",
     "text": [
      "\n",
      "0: 384x640 9 cars, 5 buss, 2 trucks, 250.9ms\n",
      "Speed: 66.7ms preprocess, 250.9ms inference, 6.0ms postprocess per image at shape (1, 3, 384, 640)\n"
     ]
    }
   ],
   "source": [
    "# Perform detection\n",
    "results = model(img)\n",
    "\n",
    "# Initialize vehicle count\n",
    "vehicle_count = 0\n",
    "\n",
    "# Define vehicle classes for filtering\n",
    "vehicle_classes = [2, 3, 5, 7] "
   ]
  },
  {
   "cell_type": "code",
   "execution_count": 39,
   "metadata": {},
   "outputs": [],
   "source": [
    "# Loop through detections\n",
    "for box in results[0].boxes:\n",
    "    cls_id = int(box.cls)  # Class ID\n",
    "    if cls_id in vehicle_classes:\n",
    "        # Get the bounding box coordinates\n",
    "        x1, y1, x2, y2 = map(int, box.xyxy[0])\n",
    "        \n",
    "        # Check if the bounding box intersects with the ROI\n",
    "        if x1 < roi_bottom_right[0] and x2 > roi_top_left[0] and y1 < roi_bottom_right[1] and y2 > roi_top_left[1]:\n",
    "            vehicle_count += 1\n",
    "            # Draw the bounding box\n",
    "            cv2.rectangle(img, (x1, y1), (x2, y2), (0, 255, 0), 2)  # Green box\n",
    "            label = f\"Vehicle {vehicle_count}\"\n",
    "            cv2.putText(img, label, (x1, y1 - 10), cv2.FONT_HERSHEY_SIMPLEX, 0.5, (0, 255, 0), 2)\n"
   ]
  },
  {
   "cell_type": "code",
   "execution_count": 40,
   "metadata": {},
   "outputs": [
    {
     "data": {
      "text/plain": [
       "array([[[  3,  38,   8],\n",
       "        [  6,  34,   5],\n",
       "        [ 10,  31,   8],\n",
       "        ...,\n",
       "        [ 15,  18,  16],\n",
       "        [ 20,  21,  18],\n",
       "        [ 30,  44,  36]],\n",
       "\n",
       "       [[  1,  42,   3],\n",
       "        [  9,  41,   6],\n",
       "        [ 13,  41,  10],\n",
       "        ...,\n",
       "        [ 49,  61,  44],\n",
       "        [ 50,  56,  45],\n",
       "        [ 43,  51,  39]],\n",
       "\n",
       "       [[  0,  41,   3],\n",
       "        [ 12,  39,   9],\n",
       "        [ 15,  46,  10],\n",
       "        ...,\n",
       "        [ 13,   7,   3],\n",
       "        [ 12,   9,   5],\n",
       "        [ 16,  14,  10]],\n",
       "\n",
       "       ...,\n",
       "\n",
       "       [[127, 155, 156],\n",
       "        [132, 160, 162],\n",
       "        [137, 166, 167],\n",
       "        ...,\n",
       "        [ 52,  49,  39],\n",
       "        [  0, 255,   0],\n",
       "        [  0, 255,   0]],\n",
       "\n",
       "       [[135, 163, 163],\n",
       "        [136, 164, 165],\n",
       "        [134, 165, 166],\n",
       "        ...,\n",
       "        [  0, 255,   0],\n",
       "        [  0, 255,   0],\n",
       "        [  0, 255,   0]],\n",
       "\n",
       "       [[137, 162, 164],\n",
       "        [139, 165, 168],\n",
       "        [139, 167, 168],\n",
       "        ...,\n",
       "        [  0, 255,   0],\n",
       "        [  0, 255,   0],\n",
       "        [  0, 255,   0]]], dtype=uint8)"
      ]
     },
     "execution_count": 40,
     "metadata": {},
     "output_type": "execute_result"
    }
   ],
   "source": [
    "# Display the vehicle count inside the ROI\n",
    "cv2.putText(img, f\"Vehicles in ROI: {vehicle_count}\", (50, 50), cv2.FONT_HERSHEY_SIMPLEX, 1, (255, 0, 0), 2)\n",
    "\n"
   ]
  },
  {
   "cell_type": "code",
   "execution_count": 44,
   "metadata": {},
   "outputs": [
    {
     "name": "stdout",
     "output_type": "stream",
     "text": [
      "6\n"
     ]
    }
   ],
   "source": [
    "# Show the result\n",
    "\n",
    "cv2.imshow(\"Vehicle Detection with ROI\", img)\n",
    "print(vehicle_count)\n",
    "cv2.waitKey(0)\n",
    "cv2.destroyAllWindows()"
   ]
  },
  {
   "cell_type": "code",
   "execution_count": 33,
   "metadata": {},
   "outputs": [],
   "source": [
    "# Show the image\n",
    "cv2.imshow(\"Vehicle Detection and Distance Estimation\", img)\n",
    "cv2.waitKey(0)\n",
    "cv2.destroyAllWindows()"
   ]
  }
 ],
 "metadata": {
  "kernelspec": {
   "display_name": "Python 3",
   "language": "python",
   "name": "python3"
  },
  "language_info": {
   "codemirror_mode": {
    "name": "ipython",
    "version": 3
   },
   "file_extension": ".py",
   "mimetype": "text/x-python",
   "name": "python",
   "nbconvert_exporter": "python",
   "pygments_lexer": "ipython3",
   "version": "3.11.2"
  }
 },
 "nbformat": 4,
 "nbformat_minor": 2
}
